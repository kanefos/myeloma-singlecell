{
 "cells": [
  {
   "cell_type": "markdown",
   "id": "ed03c871",
   "metadata": {},
   "source": [
    "# Integration overview"
   ]
  },
  {
   "cell_type": "code",
   "execution_count": null,
   "id": "03a963c9",
   "metadata": {},
   "outputs": [],
   "source": [
    "import sys\n",
    "import os\n",
    "import anndata as ad\n",
    "import scanpy as sc\n",
    "import numpy as np\n",
    "import pandas as pd\n",
    "import matplotlib.pyplot as plt\n",
    "import matplotlib\n",
    "import seaborn as sns"
   ]
  },
  {
   "cell_type": "markdown",
   "id": "fb40db1a-baf0-4e0e-bffc-c30669520c0c",
   "metadata": {},
   "source": [
    "## Batch\n",
    "\n",
    "Samples from this study were sequenced in three seperate batches"
   ]
  },
  {
   "cell_type": "code",
   "execution_count": 5,
   "id": "2e211574-03b1-42b0-913e-259fa44568f5",
   "metadata": {},
   "outputs": [
    {
     "data": {
      "text/html": [
       "<div>\n",
       "<style scoped>\n",
       "    .dataframe tbody tr th:only-of-type {\n",
       "        vertical-align: middle;\n",
       "    }\n",
       "\n",
       "    .dataframe tbody tr th {\n",
       "        vertical-align: top;\n",
       "    }\n",
       "\n",
       "    .dataframe thead th {\n",
       "        text-align: right;\n",
       "    }\n",
       "</style>\n",
       "<table border=\"1\" class=\"dataframe\">\n",
       "  <thead>\n",
       "    <tr style=\"text-align: right;\">\n",
       "      <th></th>\n",
       "      <th>donor_id</th>\n",
       "      <th>batch_id</th>\n",
       "    </tr>\n",
       "  </thead>\n",
       "  <tbody>\n",
       "    <tr>\n",
       "      <th>0</th>\n",
       "      <td>Foster_2024.HD1</td>\n",
       "      <td>batch2</td>\n",
       "    </tr>\n",
       "    <tr>\n",
       "      <th>1</th>\n",
       "      <td>Foster_2024.HD2</td>\n",
       "      <td>batch2</td>\n",
       "    </tr>\n",
       "  </tbody>\n",
       "</table>\n",
       "</div>"
      ],
      "text/plain": [
       "          donor_id batch_id\n",
       "0  Foster_2024.HD1   batch2\n",
       "1  Foster_2024.HD2   batch2"
      ]
     },
     "execution_count": 5,
     "metadata": {},
     "output_type": "execute_result"
    }
   ],
   "source": [
    "pd.read_csv('../resources/Foster_2024_batch_id.csv').head(2)"
   ]
  },
  {
   "cell_type": "markdown",
   "id": "d8411fe4",
   "metadata": {},
   "source": [
    "## Quality control"
   ]
  },
  {
   "cell_type": "code",
   "execution_count": null,
   "id": "aef40205",
   "metadata": {},
   "outputs": [],
   "source": [
    "%%capture\n",
    "\n",
    "adata = sc.read('data/raw_data/raw_data.h5ad')\n",
    "\n",
    "# Gene group calling\n",
    "adata.var['mt'] = adata.var_names.str.startswith((\"MT\"))\n",
    "adata.var['ribo'] = adata.var_names.str.startswith((\"RPS\",\"RPL\"))\n",
    "adata.var['hb'] = adata.var_names.str.contains((\"^HB[^(P)]\"))\n",
    "adata.var['ig'] = adata.var_names.str.startswith((\"IGK\", \"IGH\", \"IGL\",))\n",
    "adata.var['tcr'] = adata.var_names.str.startswith((\"TRAV\", \"TRBV\",\"TRD\", \"TRG\"))\n",
    "\n",
    "# Gene %\n",
    "sc.pp.calculate_qc_metrics(adata, qc_vars=['mt','hb','ig'], percent_top=None, log1p=False, inplace=True)\n",
    "adata.obs['log10_counts'] = np.log10(adata.obs['total_counts'])\n",
    "\n",
    "# Conventional QC thresholding\n",
    "sc.pp.filter_cells(adata, min_genes=200)\n",
    "sc.pp.filter_cells(adata, min_counts=500)\n",
    "adata = adata[adata.obs.pct_counts_mt < 10, :]\n",
    "adata = adata[adata.obs.pct_counts_hb < 20, :]\n",
    "\n",
    "# Filter >100 cells\n",
    "cells_per_sample = adata.obs['sample_id'].value_counts()\n",
    "adata = adata[adata.obs.sample_id.isin(cells_per_sample[cells_per_sample>100].index),:]\n",
    "\n",
    "# Doublet annotation\n",
    "import scrublet as scr\n",
    "adata.obs['scr_doublet'] = float('NaN')\n",
    "adata.obs['scr_doublet_score'] = float('NaN')\n",
    "for sample_i_name in adata.obs['sample_id'].unique():\n",
    "    print(sample_i_name)\n",
    "    sample_i = adata[adata.obs['sample_id'] == sample_i_name, :]\n",
    "    # Given a raw (unnormalized) UMI counts matrix counts_matrix with cells as rows and genes as columns,\n",
    "    # calculate a doublet score for each cell\n",
    "    scrub = scr.Scrublet(sample_i.X)\n",
    "    doublet_scores, predicted_doublets = scrub.scrub_doublets()\n",
    "    # Save\n",
    "    adata.obs.loc[sample_i.obs_names.tolist(), 'scr_doublet'] = predicted_doublets\n",
    "    adata.obs.loc[sample_i.obs_names.tolist(), 'scr_doublet_score'] = doublet_scores\n",
    "adata.obs['scr_doublet'] = adata.obs['scr_doublet'].astype(str)\n",
    "# Filter for non-doublets\n",
    "adata[adata.obs['scr_doublet'] == 'False', :]\n",
    "\n",
    "# N cells per sample >100, re-filter\n",
    "cells_per_sample = adata.obs['sample_id'].value_counts()\n",
    "adata = adata[adata.obs.sample_id.isin(cells_per_sample[cells_per_sample>100].index),:]\n",
    "\n",
    "# Attach batch\n",
    "adata.obs = adata.obs.reset_index().merge(\n",
    "    pd.read_csv('data/raw_data/sample_batch.csv'), \n",
    "    how=\"left\", on='sample_id').set_index('index')\n",
    "\n",
    "adata.write('data/qc/raw_data_qc.h5ad', compression='gzip')"
   ]
  },
  {
   "cell_type": "code",
   "execution_count": null,
   "id": "36dbf49e",
   "metadata": {
    "scrolled": true
   },
   "outputs": [],
   "source": [
    "adata = sc.read('data/qc/raw_data_qc.h5ad')"
   ]
  },
  {
   "cell_type": "markdown",
   "id": "b80424b4",
   "metadata": {},
   "source": [
    "## All immune cells, `panImmune.h5ad`"
   ]
  },
  {
   "cell_type": "markdown",
   "id": "d60accb4",
   "metadata": {},
   "source": [
    "Script used to load `scvi_model.py` code to [computer cluster](https://www.rc.ucl.ac.uk/docs/Clusters/Myriad/])."
   ]
  },
  {
   "cell_type": "code",
   "execution_count": null,
   "id": "3618e4de",
   "metadata": {},
   "outputs": [],
   "source": [
    "%%writefile scr/pan_immune.txt\n",
    "\n",
    "#$ -l h_rt=24:00:0 \n",
    "#$ -l mem=10G \n",
    "#$ -l tmpfs=10G \n",
    "#$ -N integration\n",
    "#$ -pe smp 8\n",
    "#$ -l gpu=1\n",
    "\n",
    "conda activate environment\n",
    "module load python3 \n",
    "\n",
    "#torch setup\n",
    "module unload compilers mpi\n",
    "module load compilers/gnu/4.9.2 \n",
    "module load beta-modules\n",
    "module load cuda/11.3.1/gnu-10.2.0\n",
    "\n",
    "~/miniconda3/envs/environment/bin/python3.9 scvi_model.py \\\n",
    "--adata \"raw_data_qc.h5ad\" --run_name panImmune --scvi_batch_key batch \\\n",
    "--scvi_categorical_covariate_keys sample_covar chem \\\n",
    "--n_HVG 7000 --gene_groups_remove mt ribo ig tcr --n_latent 30 \\\n",
    "--n_hidden 128 --n_layers 2 --dropout_rate 0.2 --gene_likelihood nb"
   ]
  },
  {
   "cell_type": "code",
   "execution_count": null,
   "id": "e3831bc7",
   "metadata": {},
   "outputs": [],
   "source": [
    "!qsub scr/pan_immune.txt"
   ]
  },
  {
   "cell_type": "code",
   "execution_count": null,
   "id": "92e313af",
   "metadata": {},
   "outputs": [],
   "source": [
    "# Cluster labels\n",
    "\n",
    "adata = sc.read('data/panImmune.h5ad')\n",
    "\n",
    "labels = pd.read_csv('data/cluster_labels/panImmune_labels.csv')\n",
    "labels['leiden_0.6'] = labels['leiden_0.6'].astype(str)\n",
    "\n",
    "adata.obs=adata.obs.reset_index().merge(labels, how=\"left\", on='leiden_0.6').set_index('index')\n",
    "\n",
    "adata.write('panImmune.h5ad',compression='gzip')"
   ]
  },
  {
   "cell_type": "markdown",
   "id": "c5fab407",
   "metadata": {},
   "source": [
    "## T cells, `Tcell.h5ad`"
   ]
  },
  {
   "cell_type": "code",
   "execution_count": 59,
   "id": "6dc1fd18",
   "metadata": {},
   "outputs": [],
   "source": [
    "# Subset output for integration\n",
    "\n",
    "adata = sc.read('panImmune.h5ad')\n",
    "\n",
    "sc.read('raw_data_qc.h5ad')[adata[adata.obs.lineage=='T cell',].obs_names,].write(\n",
    "    'raw_data_qc_Tcell.h5ad',compression='gzip')"
   ]
  },
  {
   "cell_type": "code",
   "execution_count": null,
   "id": "ec53913a",
   "metadata": {},
   "outputs": [],
   "source": [
    "%%writefile scr/Tcell.txt\n",
    "\n",
    "#$ -l h_rt=24:00:0 \n",
    "#$ -l mem=10G \n",
    "#$ -l tmpfs=10G \n",
    "#$ -N integration\n",
    "#$ -pe smp 8\n",
    "#$ -l gpu=1\n",
    "\n",
    "conda activate environment\n",
    "module load python3 \n",
    "\n",
    "#torch setup\n",
    "module unload compilers mpi\n",
    "module load compilers/gnu/4.9.2 \n",
    "module load beta-modules\n",
    "module load cuda/11.3.1/gnu-10.2.0\n",
    "\n",
    "~/miniconda3/envs/environment/bin/python3.9 scvi_model.py \\\n",
    "--adata \"raw_data_qc_Tcell.h5ad\" --run_name Tcell --scvi_batch_key batch \\\n",
    "--scvi_categorical_covariate_keys sample_covar chem \\\n",
    "--n_HVG 5000 --gene_groups_remove mt ribo ig tcr --n_latent 30 \\\n",
    "--n_hidden 128 --n_layers 2 --dropout_rate 0.2 --gene_likelihood zinb"
   ]
  },
  {
   "cell_type": "code",
   "execution_count": 3,
   "id": "774f7935",
   "metadata": {},
   "outputs": [],
   "source": [
    "!qsub scr/Tcell.txt"
   ]
  },
  {
   "cell_type": "code",
   "execution_count": null,
   "id": "28ab6746",
   "metadata": {},
   "outputs": [],
   "source": [
    "# Import integrated\n",
    "\n",
    "adata = sc.read('Tcell.h5ad')\n",
    "adata.obs['X_mde1'] = adata.obsm['X_mde'][:,0]\n",
    "adata.obs['X_mde2'] = adata.obsm['X_mde'][:,1]"
   ]
  },
  {
   "cell_type": "code",
   "execution_count": 15,
   "id": "6420b9e3",
   "metadata": {},
   "outputs": [],
   "source": [
    "# Manual sub-clustering\n",
    "\n",
    "subcl = {'2':0.3,'10':0.2,'27':0.1}\n",
    "for cl in subcl.keys():\n",
    "    sc.tl.leiden(adata, restrict_to=['leiden_2.0', [cl]], resolution=subcl[cl], key_added='leiden_2.0')"
   ]
  },
  {
   "cell_type": "code",
   "execution_count": null,
   "id": "a4f45f6b",
   "metadata": {},
   "outputs": [],
   "source": [
    "# Cluster labels\n",
    "\n",
    "labels = pd.read_csv('data/cluster_labels/Tcell_labels.csv')\n",
    "labels['leiden_2.0'] = labels['leiden_2.0'].astype(str)\n",
    "\n",
    "adata.obs=adata.obs.reset_index().merge(labels, how=\"left\", on='leiden_0.6').set_index('index')\n",
    "\n",
    "adata.write('Tcell.h5ad',compression='gzip')"
   ]
  }
 ],
 "metadata": {
  "kernelspec": {
   "display_name": "Python 3 (ipykernel)",
   "language": "python",
   "name": "python3"
  },
  "language_info": {
   "codemirror_mode": {
    "name": "ipython",
    "version": 3
   },
   "file_extension": ".py",
   "mimetype": "text/x-python",
   "name": "python",
   "nbconvert_exporter": "python",
   "pygments_lexer": "ipython3",
   "version": "3.9.18"
  }
 },
 "nbformat": 4,
 "nbformat_minor": 5
}
