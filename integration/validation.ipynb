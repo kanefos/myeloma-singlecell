{
 "cells": [
  {
   "cell_type": "markdown",
   "id": "d6dd46a5",
   "metadata": {},
   "source": [
    "# Validation Datasets"
   ]
  },
  {
   "cell_type": "code",
   "execution_count": null,
   "id": "395d1727",
   "metadata": {},
   "outputs": [],
   "source": [
    "import sys\n",
    "import os\n",
    "import tempfile\n",
    "import math\n",
    "import anndata as ad\n",
    "import scanpy as sc\n",
    "import numpy as np\n",
    "import pandas as pd\n",
    "import seaborn as sns\n",
    "import matplotlib.pyplot as plt\n",
    "import matplotlib\n",
    "\n",
    "import numba\n",
    "import scvi\n",
    "import torch\n",
    "import pynndescent"
   ]
  },
  {
   "cell_type": "markdown",
   "id": "cd98e89b",
   "metadata": {},
   "source": [
    "## Running scANCI on validation data\n",
    "\n",
    "Script used to load `scanvi_model.py` code to [computer cluster](https://www.rc.ucl.ac.uk/docs/Clusters/Myriad/])."
   ]
  },
  {
   "cell_type": "markdown",
   "id": "1a0bb1b3",
   "metadata": {},
   "source": [
    "Interaction session\n",
    "\n",
    "```\n",
    "qrsh -pe mpi 8 -l mem=50G,h_rt=6:00:00 -l gpu=1 -now no\n",
    "```"
   ]
  },
  {
   "cell_type": "code",
   "execution_count": null,
   "id": "a2399f21",
   "metadata": {},
   "outputs": [],
   "source": [
    "/home/rebmkaf/miniconda3/envs/scvi-env-extra/bin/python3.9 \\\n",
    "scripts/python/Surgery_scANVI.py \\\n",
    "--adata_ref_dir 'reference_data.h5ad' --model_ref_dir 'models/validation/' \\\n",
    "--adata_query_dir 'query_data.h5ad' --run_name validation_Tcell \\\n",
    "--label_keys 'pheno' --surgery_epochs 150 --scanvi_label pheno"
   ]
  },
  {
   "cell_type": "markdown",
   "id": "f88f14e4",
   "metadata": {},
   "source": [
    "## Results"
   ]
  },
  {
   "cell_type": "code",
   "execution_count": 5,
   "id": "4003f20d",
   "metadata": {},
   "outputs": [
    {
     "data": {
      "text/html": [
       "<div>\n",
       "<style scoped>\n",
       "    .dataframe tbody tr th:only-of-type {\n",
       "        vertical-align: middle;\n",
       "    }\n",
       "\n",
       "    .dataframe tbody tr th {\n",
       "        vertical-align: top;\n",
       "    }\n",
       "\n",
       "    .dataframe thead th {\n",
       "        text-align: right;\n",
       "    }\n",
       "</style>\n",
       "<table border=\"1\" class=\"dataframe\">\n",
       "  <thead>\n",
       "    <tr style=\"text-align: right;\">\n",
       "      <th></th>\n",
       "      <th>study</th>\n",
       "      <th>sample_id</th>\n",
       "      <th>chem</th>\n",
       "      <th>n_genes_by_counts</th>\n",
       "      <th>total_counts</th>\n",
       "      <th>total_counts_mt</th>\n",
       "      <th>pct_counts_mt</th>\n",
       "      <th>total_counts_hb</th>\n",
       "      <th>pct_counts_hb</th>\n",
       "      <th>total_counts_ig</th>\n",
       "      <th>...</th>\n",
       "      <th>log10_total_counts</th>\n",
       "      <th>CD3</th>\n",
       "      <th>total_counts_tcr</th>\n",
       "      <th>pct_counts_tcr</th>\n",
       "      <th>batch</th>\n",
       "      <th>sample_covar</th>\n",
       "      <th>scanvi_label</th>\n",
       "      <th>pheno</th>\n",
       "      <th>_scvi_batch</th>\n",
       "      <th>_scvi_labels</th>\n",
       "    </tr>\n",
       "  </thead>\n",
       "  <tbody>\n",
       "    <tr>\n",
       "      <th>Healthy2_AAACCTGAGGCACATG-1</th>\n",
       "      <td>Botta2023</td>\n",
       "      <td>Healthy2</td>\n",
       "      <td>5v</td>\n",
       "      <td>1279</td>\n",
       "      <td>4728.0</td>\n",
       "      <td>279.0</td>\n",
       "      <td>5.901015</td>\n",
       "      <td>0.0</td>\n",
       "      <td>0.0</td>\n",
       "      <td>1.0</td>\n",
       "      <td>...</td>\n",
       "      <td>3.674677</td>\n",
       "      <td>2.333832</td>\n",
       "      <td>11.0</td>\n",
       "      <td>0.232657</td>\n",
       "      <td>Botta2023</td>\n",
       "      <td>Healthy2</td>\n",
       "      <td>Unknown</td>\n",
       "      <td>Unknown</td>\n",
       "      <td>15</td>\n",
       "      <td>24</td>\n",
       "    </tr>\n",
       "    <tr>\n",
       "      <th>Healthy2_AAACCTGAGTGCTGCC-1</th>\n",
       "      <td>Botta2023</td>\n",
       "      <td>Healthy2</td>\n",
       "      <td>5v</td>\n",
       "      <td>959</td>\n",
       "      <td>2525.0</td>\n",
       "      <td>243.0</td>\n",
       "      <td>9.623762</td>\n",
       "      <td>0.0</td>\n",
       "      <td>0.0</td>\n",
       "      <td>0.0</td>\n",
       "      <td>...</td>\n",
       "      <td>3.402261</td>\n",
       "      <td>2.310846</td>\n",
       "      <td>9.0</td>\n",
       "      <td>0.356436</td>\n",
       "      <td>Botta2023</td>\n",
       "      <td>Healthy2</td>\n",
       "      <td>Unknown</td>\n",
       "      <td>Unknown</td>\n",
       "      <td>15</td>\n",
       "      <td>24</td>\n",
       "    </tr>\n",
       "  </tbody>\n",
       "</table>\n",
       "<p>2 rows × 29 columns</p>\n",
       "</div>"
      ],
      "text/plain": [
       "                                 study sample_id chem  n_genes_by_counts  \\\n",
       "Healthy2_AAACCTGAGGCACATG-1  Botta2023  Healthy2   5v               1279   \n",
       "Healthy2_AAACCTGAGTGCTGCC-1  Botta2023  Healthy2   5v                959   \n",
       "\n",
       "                             total_counts  total_counts_mt  pct_counts_mt  \\\n",
       "Healthy2_AAACCTGAGGCACATG-1        4728.0            279.0       5.901015   \n",
       "Healthy2_AAACCTGAGTGCTGCC-1        2525.0            243.0       9.623762   \n",
       "\n",
       "                             total_counts_hb  pct_counts_hb  total_counts_ig  \\\n",
       "Healthy2_AAACCTGAGGCACATG-1              0.0            0.0              1.0   \n",
       "Healthy2_AAACCTGAGTGCTGCC-1              0.0            0.0              0.0   \n",
       "\n",
       "                             ...  log10_total_counts       CD3  \\\n",
       "Healthy2_AAACCTGAGGCACATG-1  ...            3.674677  2.333832   \n",
       "Healthy2_AAACCTGAGTGCTGCC-1  ...            3.402261  2.310846   \n",
       "\n",
       "                             total_counts_tcr  pct_counts_tcr      batch  \\\n",
       "Healthy2_AAACCTGAGGCACATG-1              11.0        0.232657  Botta2023   \n",
       "Healthy2_AAACCTGAGTGCTGCC-1               9.0        0.356436  Botta2023   \n",
       "\n",
       "                             sample_covar  scanvi_label    pheno  _scvi_batch  \\\n",
       "Healthy2_AAACCTGAGGCACATG-1      Healthy2       Unknown  Unknown           15   \n",
       "Healthy2_AAACCTGAGTGCTGCC-1      Healthy2       Unknown  Unknown           15   \n",
       "\n",
       "                             _scvi_labels  \n",
       "Healthy2_AAACCTGAGGCACATG-1            24  \n",
       "Healthy2_AAACCTGAGTGCTGCC-1            24  \n",
       "\n",
       "[2 rows x 29 columns]"
      ]
     },
     "execution_count": 5,
     "metadata": {},
     "output_type": "execute_result"
    }
   ],
   "source": [
    "# Integrated object `.obs`\n",
    "\n",
    "pd.read_csv('data/validation_Tcell-obs.csv',index_col=0).head(2)"
   ]
  },
  {
   "cell_type": "code",
   "execution_count": 7,
   "id": "c59850e8",
   "metadata": {},
   "outputs": [
    {
     "data": {
      "text/html": [
       "<div>\n",
       "<style scoped>\n",
       "    .dataframe tbody tr th:only-of-type {\n",
       "        vertical-align: middle;\n",
       "    }\n",
       "\n",
       "    .dataframe tbody tr th {\n",
       "        vertical-align: top;\n",
       "    }\n",
       "\n",
       "    .dataframe thead th {\n",
       "        text-align: right;\n",
       "    }\n",
       "</style>\n",
       "<table border=\"1\" class=\"dataframe\">\n",
       "  <thead>\n",
       "    <tr style=\"text-align: right;\">\n",
       "      <th></th>\n",
       "      <th>X_mde1</th>\n",
       "      <th>X_mde2</th>\n",
       "      <th>pheno_pred</th>\n",
       "      <th>pheno_uncertainty</th>\n",
       "    </tr>\n",
       "  </thead>\n",
       "  <tbody>\n",
       "    <tr>\n",
       "      <th>Healthy2_AAACCTGAGGCACATG-1</th>\n",
       "      <td>-1.064260</td>\n",
       "      <td>-0.135437</td>\n",
       "      <td>CD4.Tcm</td>\n",
       "      <td>0.300192</td>\n",
       "    </tr>\n",
       "    <tr>\n",
       "      <th>Healthy2_AAACCTGAGTGCTGCC-1</th>\n",
       "      <td>0.929618</td>\n",
       "      <td>1.447955</td>\n",
       "      <td>CD8.TemActive</td>\n",
       "      <td>0.000000</td>\n",
       "    </tr>\n",
       "  </tbody>\n",
       "</table>\n",
       "</div>"
      ],
      "text/plain": [
       "                               X_mde1    X_mde2     pheno_pred  \\\n",
       "Healthy2_AAACCTGAGGCACATG-1 -1.064260 -0.135437        CD4.Tcm   \n",
       "Healthy2_AAACCTGAGTGCTGCC-1  0.929618  1.447955  CD8.TemActive   \n",
       "\n",
       "                             pheno_uncertainty  \n",
       "Healthy2_AAACCTGAGGCACATG-1           0.300192  \n",
       "Healthy2_AAACCTGAGTGCTGCC-1           0.000000  "
      ]
     },
     "execution_count": 7,
     "metadata": {},
     "output_type": "execute_result"
    }
   ],
   "source": [
    "# Integrated object predicted labels\n",
    "\n",
    "pd.read_csv('data/validation_Tcell.csv',index_col=0).head(2)"
   ]
  }
 ],
 "metadata": {
  "kernelspec": {
   "display_name": "Python 3 (ipykernel)",
   "language": "python",
   "name": "python3"
  },
  "language_info": {
   "codemirror_mode": {
    "name": "ipython",
    "version": 3
   },
   "file_extension": ".py",
   "mimetype": "text/x-python",
   "name": "python",
   "nbconvert_exporter": "python",
   "pygments_lexer": "ipython3",
   "version": "3.9.18"
  }
 },
 "nbformat": 4,
 "nbformat_minor": 5
}
