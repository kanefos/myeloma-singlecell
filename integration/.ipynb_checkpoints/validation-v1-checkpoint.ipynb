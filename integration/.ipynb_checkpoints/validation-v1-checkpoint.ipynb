{
 "cells": [
  {
   "cell_type": "markdown",
   "id": "d6dd46a5",
   "metadata": {},
   "source": [
    "# Validation Datasets"
   ]
  },
  {
   "cell_type": "code",
   "execution_count": 1,
   "id": "395d1727",
   "metadata": {},
   "outputs": [
    {
     "name": "stderr",
     "output_type": "stream",
     "text": [
      "Global seed set to 0\n"
     ]
    }
   ],
   "source": [
    "import sys\n",
    "import os\n",
    "import tempfile\n",
    "import math\n",
    "import anndata as ad\n",
    "import scanpy as sc\n",
    "import numpy as np\n",
    "import pandas as pd\n",
    "import seaborn as sns\n",
    "import matplotlib.pyplot as plt\n",
    "import matplotlib\n",
    "\n",
    "import numba\n",
    "import scvi\n",
    "import torch\n",
    "import pynndescent\n",
    "\n",
    "sc.set_figure_params(figsize=(4, 4))\n",
    "\n",
    "# for white background of figures (only for docs rendering)\n",
    "%config InlineBackend.print_figure_kwargs={'facecolor' : \"w\"}\n",
    "%config InlineBackend.figure_format='retina'"
   ]
  },
  {
   "cell_type": "markdown",
   "id": "98f91f92",
   "metadata": {},
   "source": [
    "## Functionalise SCANVI-Surgery"
   ]
  },
  {
   "cell_type": "code",
   "execution_count": 3,
   "id": "cfd7623c",
   "metadata": {},
   "outputs": [],
   "source": [
    "#adata_ref_dir = 'data/integrated/TemB.h5ad'\n",
    "#model_ref_dir = 'models/TemB/'\n",
    "#adata_query_dir = 'data/raw_data/...'\n",
    "#run_name = 'output'\n",
    "#label_keys = ['pheno']\n",
    "#surgery_epochs = 400"
   ]
  },
  {
   "cell_type": "code",
   "execution_count": 10,
   "id": "db1be0b1",
   "metadata": {},
   "outputs": [
    {
     "name": "stdout",
     "output_type": "stream",
     "text": [
      "Overwriting Surgery.py\n"
     ]
    }
   ],
   "source": [
    "%%writefile scripts/python/Surgery.py\n",
    "\n",
    "import argparse\n",
    "import sys\n",
    "import os\n",
    "import tempfile\n",
    "import math\n",
    "import anndata as ad\n",
    "import scanpy as sc\n",
    "import numpy as np\n",
    "import pandas as pd\n",
    "import seaborn as sns\n",
    "import matplotlib.pyplot as plt\n",
    "import matplotlib\n",
    "\n",
    "import numba\n",
    "import scvi\n",
    "import torch\n",
    "import pynndescent\n",
    "\n",
    "# Arguments\n",
    "parser = argparse.ArgumentParser()\n",
    "parser.add_argument('--adata_ref_dir', type=str)\n",
    "parser.add_argument('--model_ref_dir', type=str)\n",
    "parser.add_argument('--adata_query_dir', type=str)\n",
    "parser.add_argument('--run_name', type=str)\n",
    "parser.add_argument(\"--label_keys\", nargs=\"+\", type=str)\n",
    "parser.add_argument('--surgery_epochs', type=int)\n",
    "args = parser.parse_args()\n",
    "\n",
    "\n",
    "# Weighted Prediction Function ############\n",
    "\n",
    "def weighted_prediction(weights, ref_cats):\n",
    "    \"\"\"Get highest weight category.\"\"\"\n",
    "    N = len(weights)\n",
    "    predictions = np.zeros((N,), dtype=ref_cats.dtype)\n",
    "    uncertainty = np.zeros((N,))\n",
    "    for i in range(N):\n",
    "        obs_weights = weights[i]\n",
    "        obs_cats = ref_cats[i]\n",
    "        best_prob = 0\n",
    "        for c in np.unique(obs_cats):\n",
    "            cand_prob = np.sum(obs_weights[obs_cats == c])\n",
    "            if cand_prob > best_prob:\n",
    "                best_prob = cand_prob\n",
    "                predictions[i] = c\n",
    "                uncertainty[i] = max(1 - best_prob, 0)\n",
    "\n",
    "    return predictions, uncertainty\n",
    "\n",
    "\n",
    "# Surgery ############\n",
    "\n",
    "# Import\n",
    "adata_ref = sc.read(args.adata_ref_dir)\n",
    "adata_ref = adata_ref[:,adata_ref.var['intHVG']]\n",
    "model = scvi.model.SCVI.load(args.model_ref_dir, adata_ref.copy())\n",
    "adata_query = sc.read(args.adata_query_dir)\n",
    "\n",
    "# Learn a neighbors index on reference latent space\n",
    "X_train = adata_ref.obsm[\"X_scVI\"]\n",
    "ref_nn_index = pynndescent.NNDescent(X_train)\n",
    "ref_nn_index.prepare()\n",
    "\n",
    "# Prep the reference for scvi\n",
    "scvi.model.SCANVI.prepare_query_anndata(adata_query, model)\n",
    "adata_query.obs[\"scanvi_label\"] = \"unlabeled\"\n",
    "\n",
    "# Build model for query dataset using reference model\n",
    "query_model = scvi.model.SCVI.load_query_data(adata_query, model)\n",
    "\n",
    "# Move to cude GPU\n",
    "query_model.to_device('cuda:0') # moves model to GPU 0, cuda:0 just moves to the first available cuda \n",
    "\n",
    "# scArches/scANVI-specific query training arguments.\n",
    "train_kwargs_surgery = {\n",
    "    \"early_stopping\": True,\n",
    "    \"early_stopping_monitor\": \"elbo_train\",\n",
    "    \"early_stopping_patience\": 10,\n",
    "    \"early_stopping_min_delta\": 0.001,\n",
    "    \"plan_kwargs\": {\"weight_decay\": 0.0},\n",
    "}\n",
    "\n",
    "# Train query model\n",
    "query_model.train(max_epochs=args.surgery_epochs, **train_kwargs_surgery)\n",
    "\n",
    "# Get latent representation of query model\n",
    "query_emb = ad.AnnData(query_model.get_latent_representation())\n",
    "query_emb.obs_names = adata_query.obs_names\n",
    "\n",
    "# mde\n",
    "from scvi.model.utils import mde\n",
    "query_emb.obsm[\"X_mde\"] = mde(query_emb.X)\n",
    "query_emb.obs['X_mde1'] = query_emb.obsm['X_mde'][:,0]\n",
    "query_emb.obs['X_mde2'] = query_emb.obsm['X_mde'][:,1]\n",
    "\n",
    "# Nearest Neighbors Search of query within reference KNN\n",
    "ref_neighbors, ref_distances = ref_nn_index.query(query_emb.X)\n",
    "#find the nearest neighbors (ref_neighbors) and their corresponding distances (ref_distances) \n",
    "#for each point in the query set (query_emb.X) based on a reference dataset. The ref_nn_index \n",
    "#seems to be a precomputed nearest neighbors index.\n",
    "\n",
    "# Convert distances to affinities\n",
    "stds = np.std(ref_distances, axis=1)\n",
    "stds = (2.0 / stds) ** 2\n",
    "stds = stds.reshape(-1, 1)\n",
    "ref_distances_tilda = np.exp(-np.true_divide(ref_distances, stds))\n",
    "weights = ref_distances_tilda / np.sum(ref_distances_tilda, axis=1, keepdims=True)\n",
    "\n",
    "# For each annotation level, get prediction and uncertainty\n",
    "for l in args.label_keys:\n",
    "    ref_cats = adata_ref.obs[l].cat.codes.to_numpy()[ref_neighbors]\n",
    "    p, u = weighted_prediction(weights, ref_cats)\n",
    "    p = np.asarray(adata_ref.obs[l].cat.categories)[p]\n",
    "    query_emb.obs[l + \"_pred\"], query_emb.obs[l + \"_uncertainty\"] = p, u\n",
    "\n",
    "# Filter our predictions on the uncertainty threshold, discussed in the HLCA manuscript.\n",
    "uncertainty_threshold = 0.2\n",
    "for l in args.label_keys:\n",
    "    mask = query_emb.obs[l + \"_uncertainty\"] > 0.2\n",
    "    print(f\"{l}: {sum(mask)/len(mask)} unknown\")\n",
    "    query_emb.obs[l + \"_pred\"].loc[mask] = \"Unknown\"\n",
    "    \n",
    "# Output\n",
    "###query_emb.write(f'~/Scratch/IntegratedBM/Surgery_output/{args.run_name}.h5ad',compression='gzip')\n",
    "query_emb.obs.to_csv(f'~/Scratch/IntegratedBM/Surgery_output/{args.run_name}.csv')\n",
    "adata_query.obs.to_csv(f'~/Scratch/IntegratedBM/Surgery_output/{args.run_name}-obs.csv')"
   ]
  },
  {
   "cell_type": "code",
   "execution_count": null,
   "id": "cb1a07fc",
   "metadata": {},
   "outputs": [],
   "source": []
  },
  {
   "cell_type": "markdown",
   "id": "de05a871",
   "metadata": {},
   "source": [
    "## Running TEST"
   ]
  },
  {
   "cell_type": "code",
   "execution_count": 5,
   "id": "46827e0d",
   "metadata": {},
   "outputs": [],
   "source": [
    "adata_query = sc.read('data/raw_data/Botta2023/umi.h5ad')\n",
    "sc.pp.subsample(adata_query, 0.2)\n",
    "adata_query.obs['batch'] = adata_query.obs['study']\n",
    "adata_query.obs['sample_covar'] = adata_query.obs['sample_id']"
   ]
  },
  {
   "cell_type": "code",
   "execution_count": 7,
   "id": "27684234",
   "metadata": {},
   "outputs": [],
   "source": [
    "adata_query.write('data/raw_data/Surgery-data/TEST.h5ad',compression='gzip')"
   ]
  },
  {
   "cell_type": "code",
   "execution_count": 6,
   "id": "aea5be90",
   "metadata": {},
   "outputs": [],
   "source": [
    "adata_ref_dir = 'data/integrated/TemB.h5ad'\n",
    "model_ref_dir = 'models/TemB/'\n",
    "adata_query_dir = 'data/raw_data/Surgery-data/TEST.h5ad'\n",
    "run_name = 'TEST'\n",
    "\n",
    "label_keys = ['leiden_0.6']\n",
    "surgery_epochs = 1"
   ]
  },
  {
   "cell_type": "code",
   "execution_count": 7,
   "id": "6436c923",
   "metadata": {},
   "outputs": [
    {
     "data": {
      "text/plain": [
       "AnnData object with n_obs × n_vars = 56128 × 35041\n",
       "    obs: 'study', 'sample_id', 'donor', 'batch', 'sample_covar', 'chem', 'n_counts', 'n_genes_by_counts', 'total_counts', 'total_counts_mt', 'pct_counts_mt', 'total_counts_hb', 'pct_counts_hb', 'total_counts_ig', 'pct_counts_ig', 'log10_counts', 'n_genes', 'scr_doublet', 'scr_doublet_score', 'pct_chrY', 'UMAP1', 'UMAP2', 'leiden_0.6', 'leiden_0.8', 'leiden_1.0', 'leiden_1.2', 'leiden_1.5', 'leiden_2.0', 'log10_n_genes_by_counts', 'CD4_bool', 'CD3_bool', 'CD8_bool', 'FOXP3_bool', 'has_ir'\n",
       "    var: 'gene', 'n_counts', 'mt', 'ribo', 'hb', 'ig', 'tcr', 'n_cells_by_counts', 'mean_counts', 'pct_dropout_by_counts', 'total_counts', 'chrY', 'intHVG'\n",
       "    uns: 'CD3_bool_colors', 'CD4_bool_colors', 'CD8_bool_colors', 'FOXP3_bool_colors', 'chem_colors', 'has_ir_colors', 'leiden', 'leiden_0.6_colors', 'leiden_0.8_colors', 'leiden_1.0_colors', 'log1p', 'n_neighbors15', 'neighbors', 'study_colors', 't-test', 'umap'\n",
       "    obsm: 'X_mde', 'X_scVI', 'X_umap'\n",
       "    obsp: 'connectivities', 'distances', 'n_neighbors15_connectivities', 'n_neighbors15_distances'"
      ]
     },
     "execution_count": 7,
     "metadata": {},
     "output_type": "execute_result"
    }
   ],
   "source": [
    "sc.read(adata_ref_dir)"
   ]
  },
  {
   "cell_type": "code",
   "execution_count": 5,
   "id": "ea72b860",
   "metadata": {},
   "outputs": [
    {
     "data": {
      "text/plain": [
       "AnnData object with n_obs × n_vars = 8203 × 27947\n",
       "    obs: 'study', 'sample_id', 'chem', 'batch', 'sample_covar'\n",
       "    var: 'gene'"
      ]
     },
     "execution_count": 5,
     "metadata": {},
     "output_type": "execute_result"
    }
   ],
   "source": [
    "sc.read(adata_query_dir)"
   ]
  },
  {
   "cell_type": "code",
   "execution_count": 3,
   "id": "35c6cd3e",
   "metadata": {},
   "outputs": [
    {
     "name": "stdout",
     "output_type": "stream",
     "text": [
      "Overwriting scripts/jobscripts/Surgery_test.txt\n"
     ]
    }
   ],
   "source": [
    "%%writefile scripts/jobscripts/Surgery_test.txt\n",
    "\n",
    "#$ -l h_rt=1:00:0 \n",
    "#$ -l mem=1G\n",
    "#$ -l tmpfs=1G \n",
    "#$ -N surgery\n",
    "#$ -pe smp 8\n",
    "#$ -l gpu=1\n",
    "\n",
    "source /home/rebmkaf/miniconda3/bin/activate /home/rebmkaf/miniconda3/envs/scvi-env-extra\n",
    "module load python3 \n",
    "\n",
    "#torch setup\n",
    "module unload compilers mpi\n",
    "module load compilers/gnu/4.9.2 \n",
    "module load beta-modules\n",
    "module load cuda/11.3.1/gnu-10.2.0\n",
    "\n",
    "cd /home/rebmkaf/Scratch/IntegratedBM\n",
    "\n",
    "/home/rebmkaf/miniconda3/envs/scvi-env-extra/bin/python3.9 \\\n",
    "scripts/python/Surgery.py \\\n",
    "--adata_ref_dir 'data/integrated/TemB.h5ad' \\\n",
    "--model_ref_dir 'models/TemB/' \\\n",
    "--adata_query_dir 'data/raw_data/Surgery-data/TEST.h5ad' \\\n",
    "--run_name TEST \\\n",
    "--label_keys 'leiden_0.6' \\\n",
    "--surgery_epochs 1\n",
    "\n",
    "#rm -f surgery.e*\n",
    "#rm -f surgery.o*"
   ]
  },
  {
   "cell_type": "code",
   "execution_count": 10,
   "id": "07f9cd67",
   "metadata": {},
   "outputs": [
    {
     "name": "stdout",
     "output_type": "stream",
     "text": [
      "Your job 9971628 (\"surgery\") has been submitted\r\n"
     ]
    }
   ],
   "source": [
    "!qsub scripts/jobscripts/Surgery_test.txt"
   ]
  },
  {
   "cell_type": "code",
   "execution_count": 12,
   "id": "b03082f9",
   "metadata": {
    "scrolled": true
   },
   "outputs": [
    {
     "name": "stdout",
     "output_type": "stream",
     "text": [
      "job-ID  prior   name       user         state submit/start at     queue                          slots ja-task-ID \r\n",
      "-----------------------------------------------------------------------------------------------------------------\r\n",
      "9971628 3.07850 surgery    rebmkaf      qw    02/13/2024 13:08:54                                    8        \r\n"
     ]
    }
   ],
   "source": [
    "!qstat"
   ]
  },
  {
   "cell_type": "code",
   "execution_count": null,
   "id": "91e155ef",
   "metadata": {},
   "outputs": [],
   "source": []
  },
  {
   "cell_type": "markdown",
   "id": "72957564",
   "metadata": {},
   "source": [
    "## Reference prep"
   ]
  },
  {
   "cell_type": "markdown",
   "id": "03bf946b",
   "metadata": {},
   "source": [
    "```\n",
    "/home/rebmkaf/miniconda3/envs/scvi-env-extra/bin/python3.9 \\\n",
    "scripts/python/scvi_model.py \\\n",
    "--adata \"data/qc/multi_QC_Tcell.h5ad\" --run_name Tcell_2 --scvi_batch_key batch \\\n",
    "--scvi_categorical_covariate_keys sample_covar chem \\\n",
    "--n_HVG 5000 --gene_groups_remove mt ribo ig tcr --n_latent 30 \\\n",
    "--n_hidden 128 --n_layers 2 --dropout_rate 0.2 --gene_likelihood zinb\n",
    "```]"
   ]
  },
  {
   "cell_type": "code",
   "execution_count": null,
   "id": "6e689c11",
   "metadata": {},
   "outputs": [],
   "source": [
    "#adata_ref_dir = 'data/integrated/TemB.h5ad'\n",
    "#model_ref_dir = 'models/TemB/'\n",
    "#adata_query_dir = 'data/raw_data/...'\n",
    "#run_name = 'output'\n",
    "#label_keys = ['pheno']\n",
    "#surgery_epochs = 400"
   ]
  },
  {
   "cell_type": "code",
   "execution_count": null,
   "id": "9ff1813b",
   "metadata": {},
   "outputs": [],
   "source": [
    "# Load the reference\n",
    "adata_ref = sc.read('data/integrated/Tcell_2.h5ad')"
   ]
  },
  {
   "cell_type": "code",
   "execution_count": null,
   "id": "3cbd1035",
   "metadata": {},
   "outputs": [],
   "source": [
    "# Import pheno\n",
    "data_ref.obs = adata_ref.obs.join(pd.read_csv('data/obs/Tcell.csv',index_col=0)[['pheno']])"
   ]
  },
  {
   "cell_type": "code",
   "execution_count": null,
   "id": "0dc8d709",
   "metadata": {},
   "outputs": [],
   "source": [
    "# Save\n",
    "adata_ref.write('data/integrated/Tcell_2.h5ad',compression='gzip')"
   ]
  },
  {
   "cell_type": "code",
   "execution_count": null,
   "id": "1589f0d6",
   "metadata": {},
   "outputs": [],
   "source": [
    "# Prep the reference for scvi\n",
    "model = scvi.model.SCVI.load('models/Tcell_2/', adata_ref)\n",
    "scvi.model.SCANVI.prepare_query_anndata(adata_query, model)"
   ]
  },
  {
   "cell_type": "code",
   "execution_count": null,
   "id": "ebefd8a3",
   "metadata": {},
   "outputs": [],
   "source": []
  },
  {
   "cell_type": "markdown",
   "id": "30e21e2c",
   "metadata": {},
   "source": [
    "## Query prep"
   ]
  },
  {
   "cell_type": "code",
   "execution_count": null,
   "id": "bd46f648",
   "metadata": {},
   "outputs": [],
   "source": [
    "# Test\n",
    "#adata_query = sc.read('data/raw_data/Botta2023/umi.h5ad')\n",
    "#sc.pp.subsample(adata_query, 0.2)\n",
    "#adata_query.obs['batch'] = adata_query.obs['study']\n",
    "#adata_query.obs['sample_covar'] = adata_query.obs['sample_id']"
   ]
  },
  {
   "cell_type": "code",
   "execution_count": 3,
   "id": "a035a5ef",
   "metadata": {},
   "outputs": [
    {
     "data": {
      "text/plain": [
       "AnnData object with n_obs × n_vars = 55561 × 15841\n",
       "    obs: 'study', 'sample_id', 'chem', 'n_genes_by_counts', 'total_counts', 'total_counts_mt', 'pct_counts_mt', 'total_counts_hb', 'pct_counts_hb', 'total_counts_ig', 'pct_counts_ig', 'log10_counts', 'n_genes', 'n_counts', 'CD3D', 'CD3E', 'CD3G', 'CD4', 'CD8A', 'log10_total_counts', 'CD3', 'total_counts_tcr', 'pct_counts_tcr'\n",
       "    var: 'gene', 'mt', 'ribo', 'hb', 'ig', 'tcr', 'n_cells_by_counts', 'mean_counts', 'pct_dropout_by_counts', 'total_counts'"
      ]
     },
     "execution_count": 3,
     "metadata": {},
     "output_type": "execute_result"
    }
   ],
   "source": [
    "# Import full query\n",
    "#CD3+, QC (min counts/genes, <10% mt, <20% hb), min 30 cells/sample\n",
    "adata_query = sc.read('data/raw_data/validT_20240212.h5ad')\n",
    "adata_query"
   ]
  },
  {
   "cell_type": "code",
   "execution_count": null,
   "id": "a8ee1c45",
   "metadata": {},
   "outputs": [],
   "source": [
    "#--scvi_batch_key batch\n",
    "#--scvi_categorical_covariate_keys sample_covar chem\n",
    "adata_query.obs['batch'] = adata_query.obs['study']\n",
    "adata_query.obs['sample_covar'] = adata_query.obs['sample_id']"
   ]
  },
  {
   "cell_type": "code",
   "execution_count": null,
   "id": "51d263c8",
   "metadata": {},
   "outputs": [],
   "source": [
    "adata_query.write('data/raw_data/validT_20240212.h5ad',compression='gzip')"
   ]
  },
  {
   "cell_type": "code",
   "execution_count": null,
   "id": "3f704727",
   "metadata": {},
   "outputs": [],
   "source": [
    "##scvi.model.SCANVI.prepare_query_anndata(adata_query, model)"
   ]
  },
  {
   "cell_type": "markdown",
   "id": "cd98e89b",
   "metadata": {},
   "source": [
    "## Running real"
   ]
  },
  {
   "cell_type": "code",
   "execution_count": null,
   "id": "431ca832",
   "metadata": {},
   "outputs": [],
   "source": [
    "%%writefile scripts/jobscripts/Surgery_Tcell.txt\n",
    "\n",
    "#$ -l h_rt=12:00:0 \n",
    "#$ -l mem=1G\n",
    "#$ -l tmpfs=1G \n",
    "#$ -N surgery\n",
    "#$ -pe smp 8\n",
    "#$ -l gpu=1\n",
    "\n",
    "source /home/rebmkaf/miniconda3/bin/activate /home/rebmkaf/miniconda3/envs/scvi-env-extra\n",
    "module load python3 \n",
    "\n",
    "#torch setup\n",
    "module unload compilers mpi\n",
    "module load compilers/gnu/4.9.2 \n",
    "module load beta-modules\n",
    "module load cuda/11.3.1/gnu-10.2.0\n",
    "\n",
    "cd /home/rebmkaf/Scratch/IntegratedBM\n",
    "\n",
    "/home/rebmkaf/miniconda3/envs/scvi-env-extra/bin/python3.9 scripts/python/Surgery.py --adata_ref_dir 'data/integrated/Tcell_2.h5ad' --model_ref_dir 'models/Tcell_2/' --adata_query_dir 'data/raw_data/validT_20240212.h5ad' --run_name Tcell2_validT_run1 --label_keys 'pheno' --surgery_epochs 143\n",
    "#rm -f surgery.e*\n",
    "#rm -f surgery.o*"
   ]
  },
  {
   "cell_type": "markdown",
   "id": "5f80768f",
   "metadata": {},
   "source": [
    "### Running on login node\n",
    "`%%writefile scripts/python/Surgery.py`"
   ]
  },
  {
   "cell_type": "code",
   "execution_count": 1,
   "id": "c214bb2d",
   "metadata": {},
   "outputs": [
    {
     "name": "stdout",
     "output_type": "stream",
     "text": [
      "Writing Surgery-loginNode.py\n"
     ]
    }
   ],
   "source": [
    "%%writefile Surgery-loginNode.py\n",
    "\n",
    "\n",
    "import sys\n",
    "import os\n",
    "import tempfile\n",
    "import math\n",
    "import anndata as ad\n",
    "import scanpy as sc\n",
    "import numpy as np\n",
    "import pandas as pd\n",
    "import seaborn as sns\n",
    "import matplotlib.pyplot as plt\n",
    "import matplotlib\n",
    "\n",
    "import numba\n",
    "import scvi\n",
    "import torch\n",
    "import pynndescent\n",
    "\n",
    "def weighted_prediction(weights, ref_cats):\n",
    "    \"\"\"Get highest weight category.\"\"\"\n",
    "    N = len(weights)\n",
    "    predictions = np.zeros((N,), dtype=ref_cats.dtype)\n",
    "    uncertainty = np.zeros((N,))\n",
    "    for i in range(N):\n",
    "        obs_weights = weights[i]\n",
    "        obs_cats = ref_cats[i]\n",
    "        best_prob = 0\n",
    "        for c in np.unique(obs_cats):\n",
    "            cand_prob = np.sum(obs_weights[obs_cats == c])\n",
    "            if cand_prob > best_prob:\n",
    "                best_prob = cand_prob\n",
    "                predictions[i] = c\n",
    "                uncertainty[i] = max(1 - best_prob, 0)\n",
    "\n",
    "    return predictions, uncertainty"
   ]
  },
  {
   "cell_type": "code",
   "execution_count": null,
   "id": "55067985",
   "metadata": {},
   "outputs": [],
   "source": [
    "exec(open('scripts/python/Surgery-loginNode.py').read())"
   ]
  },
  {
   "cell_type": "markdown",
   "id": "33b772fc",
   "metadata": {},
   "source": [
    "### Interactive session run \n",
    "\n",
    "`qrsh -pe mpi 8 -l mem=50G,h_rt=6:00:00 -l gpu=1 -now no`"
   ]
  },
  {
   "cell_type": "code",
   "execution_count": null,
   "id": "051ee93d",
   "metadata": {},
   "outputs": [],
   "source": [
    "adata_query.shape[0] #55561\n",
    "int(400*(20000/55561)) #"
   ]
  },
  {
   "cell_type": "code",
   "execution_count": null,
   "id": "a2399f21",
   "metadata": {},
   "outputs": [],
   "source": [
    "!/home/rebmkaf/miniconda3/envs/scvi-env-extra/bin/python3.9 \\\n",
    "scripts/python/Surgery.py\\\n",
    "--adata_ref_dir 'data/integrated/Tcell_2.h5ad' \\\n",
    "--model_ref_dir 'models/Tcell_2/' --adata_query_dir 'data/raw_data/validT_20240212.h5ad' --run_name Tcell2_validT_run1 --label_keys 'pheno' --surgery_epochs 143"
   ]
  },
  {
   "cell_type": "markdown",
   "id": "280f4528",
   "metadata": {},
   "source": [
    "## Results"
   ]
  },
  {
   "cell_type": "code",
   "execution_count": null,
   "id": "fb790211",
   "metadata": {},
   "outputs": [],
   "source": [
    "# query import"
   ]
  },
  {
   "cell_type": "code",
   "execution_count": null,
   "id": "83515126",
   "metadata": {},
   "outputs": [],
   "source": [
    "# .obs imprt from pipeline"
   ]
  },
  {
   "cell_type": "markdown",
   "id": "2f965331",
   "metadata": {},
   "source": [
    "### have subset to min 30 cells, may want to filter further"
   ]
  },
  {
   "cell_type": "code",
   "execution_count": null,
   "id": "154a1e48",
   "metadata": {},
   "outputs": [],
   "source": []
  },
  {
   "cell_type": "code",
   "execution_count": null,
   "id": "7b0f9be7",
   "metadata": {},
   "outputs": [],
   "source": []
  },
  {
   "cell_type": "code",
   "execution_count": null,
   "id": "15362656",
   "metadata": {},
   "outputs": [],
   "source": []
  },
  {
   "cell_type": "code",
   "execution_count": null,
   "id": "3e2c085a",
   "metadata": {},
   "outputs": [],
   "source": []
  },
  {
   "cell_type": "code",
   "execution_count": null,
   "id": "b0b3991e",
   "metadata": {},
   "outputs": [],
   "source": []
  },
  {
   "cell_type": "code",
   "execution_count": null,
   "id": "04e7ecad",
   "metadata": {},
   "outputs": [],
   "source": []
  },
  {
   "cell_type": "code",
   "execution_count": null,
   "id": "a6d82753",
   "metadata": {},
   "outputs": [],
   "source": []
  },
  {
   "cell_type": "code",
   "execution_count": null,
   "id": "05357647",
   "metadata": {},
   "outputs": [],
   "source": []
  },
  {
   "cell_type": "code",
   "execution_count": null,
   "id": "e6cc4a42",
   "metadata": {},
   "outputs": [],
   "source": []
  },
  {
   "cell_type": "code",
   "execution_count": null,
   "id": "3e684612",
   "metadata": {},
   "outputs": [],
   "source": []
  },
  {
   "cell_type": "code",
   "execution_count": null,
   "id": "d7edb922",
   "metadata": {},
   "outputs": [],
   "source": []
  },
  {
   "cell_type": "code",
   "execution_count": null,
   "id": "7d3ffb48",
   "metadata": {},
   "outputs": [],
   "source": []
  },
  {
   "cell_type": "code",
   "execution_count": null,
   "id": "2dd90b0c",
   "metadata": {},
   "outputs": [],
   "source": []
  },
  {
   "cell_type": "code",
   "execution_count": null,
   "id": "981f008f",
   "metadata": {},
   "outputs": [],
   "source": []
  },
  {
   "cell_type": "code",
   "execution_count": null,
   "id": "4a0a6ba3",
   "metadata": {},
   "outputs": [],
   "source": []
  },
  {
   "cell_type": "code",
   "execution_count": null,
   "id": "963f284f",
   "metadata": {},
   "outputs": [],
   "source": []
  },
  {
   "cell_type": "code",
   "execution_count": null,
   "id": "e967e16e",
   "metadata": {},
   "outputs": [],
   "source": []
  },
  {
   "cell_type": "code",
   "execution_count": null,
   "id": "4e95946e",
   "metadata": {},
   "outputs": [],
   "source": []
  },
  {
   "cell_type": "code",
   "execution_count": null,
   "id": "6a7ceea8",
   "metadata": {},
   "outputs": [],
   "source": []
  },
  {
   "cell_type": "code",
   "execution_count": null,
   "id": "990fae5b",
   "metadata": {},
   "outputs": [],
   "source": []
  },
  {
   "cell_type": "code",
   "execution_count": null,
   "id": "51cec07b",
   "metadata": {},
   "outputs": [],
   "source": []
  },
  {
   "cell_type": "code",
   "execution_count": null,
   "id": "3a3a99fa",
   "metadata": {},
   "outputs": [],
   "source": []
  },
  {
   "cell_type": "code",
   "execution_count": null,
   "id": "4d5b8c42",
   "metadata": {},
   "outputs": [],
   "source": []
  },
  {
   "cell_type": "code",
   "execution_count": null,
   "id": "37813d5b",
   "metadata": {},
   "outputs": [],
   "source": []
  }
 ],
 "metadata": {
  "kernelspec": {
   "display_name": "Python 3 (ipykernel)",
   "language": "python",
   "name": "python3"
  },
  "language_info": {
   "codemirror_mode": {
    "name": "ipython",
    "version": 3
   },
   "file_extension": ".py",
   "mimetype": "text/x-python",
   "name": "python",
   "nbconvert_exporter": "python",
   "pygments_lexer": "ipython3",
   "version": "3.8.15"
  }
 },
 "nbformat": 4,
 "nbformat_minor": 5
}
